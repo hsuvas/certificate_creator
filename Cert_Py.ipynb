{
  "nbformat": 4,
  "nbformat_minor": 0,
  "metadata": {
    "colab": {
      "name": "Cert_Py.ipynb",
      "provenance": [],
      "collapsed_sections": [],
      "mount_file_id": "1NRj-6pJ38nuxD6UFAczO5DYGWZTiIO9F",
      "authorship_tag": "ABX9TyMlCNHL2POKsvW4EiuePcvf",
      "include_colab_link": true
    },
    "kernelspec": {
      "name": "python3",
      "display_name": "Python 3"
    }
  },
  "cells": [
    {
      "cell_type": "markdown",
      "metadata": {
        "id": "view-in-github",
        "colab_type": "text"
      },
      "source": [
        "<a href=\"https://colab.research.google.com/github/hsuvas/certificate_creator/blob/master/Cert_Py.ipynb\" target=\"_parent\"><img src=\"https://colab.research.google.com/assets/colab-badge.svg\" alt=\"Open In Colab\"/></a>"
      ]
    },
    {
      "cell_type": "code",
      "metadata": {
        "id": "pljcml0l-FNw",
        "colab_type": "code",
        "colab": {
          "base_uri": "https://localhost:8080/",
          "height": 35
        },
        "outputId": "87858a04-c261-4f20-f928-8dd7df54ae28"
      },
      "source": [
        "from google.colab import drive\n",
        "drive.mount('/gdrive', force_remount=True)"
      ],
      "execution_count": 33,
      "outputs": [
        {
          "output_type": "stream",
          "text": [
            "Mounted at /gdrive\n"
          ],
          "name": "stdout"
        }
      ]
    },
    {
      "cell_type": "code",
      "metadata": {
        "id": "oczU47uJH7HQ",
        "colab_type": "code",
        "colab": {}
      },
      "source": [
        "import pandas as pd\n",
        "from PIL import Image, ImageDraw, ImageFont\n",
        "\n",
        "data = pd.read_excel('/gdrive/My Drive/cert/Cerificates.xlsx')\n",
        "\n",
        "name_list = data[\"Name\"].tolist()\n",
        "\n",
        "for i in name_list:\n",
        "    im = Image.open('/gdrive/My Drive/cert/cert.jpg')\n",
        "    d = ImageDraw.Draw(im)\n",
        "    location = (1117, 1201)\n",
        "    text_color = (0, 137, 209)\n",
        "    font = ImageFont.truetype(\"/gdrive/My Drive/cert/Fonts/Afternoon in Stereo Personal Use.ttf\",120)   #load_default()\n",
        "    d.text(location, i, fill = text_color, font = font)\n",
        "    im.save(\"/gdrive/My Drive/cert/Certificates/certificate_\" + i + \".pdf\")"
      ],
      "execution_count": 34,
      "outputs": []
    }
  ]
}